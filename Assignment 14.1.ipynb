{
 "cells": [
  {
   "cell_type": "code",
   "execution_count": 1,
   "metadata": {
    "collapsed": true
   },
   "outputs": [],
   "source": [
    "import pandas as pd\n",
    "\n",
    "df = pd.read_csv('https://archive.ics.uci.edu/ml/machine-learning-databases/adult/adult.data', sep=',', header=None, names=['age','workclass','fnlwgt','education','education_num','marital_status','occupation','relationship','race','sex','capital_gain','capital_loss','hours_per_week','native_country','class'])\n",
    "\n",
    "df_obj = df.select_dtypes(['object'])\n",
    "df[df_obj.columns] = df_obj.apply(lambda x: x.str.strip())\n",
    "df = df.rename(columns={'class': 'household_income'})"
   ]
  },
  {
   "cell_type": "code",
   "execution_count": 2,
   "metadata": {
    "collapsed": false
   },
   "outputs": [
    {
     "name": "stdout",
     "output_type": "stream",
     "text": [
      "2018-04-03 10:46:41,460 INFO sqlalchemy.engine.base.Engine SELECT CAST('test plain returns' AS VARCHAR(60)) AS anon_1\n",
      "2018-04-03 10:46:41,460 INFO sqlalchemy.engine.base.Engine ()\n",
      "2018-04-03 10:46:41,460 INFO sqlalchemy.engine.base.Engine SELECT CAST('test unicode returns' AS VARCHAR(60)) AS anon_1\n",
      "2018-04-03 10:46:41,473 INFO sqlalchemy.engine.base.Engine ()\n"
     ]
    }
   ],
   "source": [
    "import sqlalchemy\n",
    "from sqlalchemy import create_engine\n",
    "engine = create_engine('sqlite:///:memory:', echo=True)\n",
    "conn = engine.connect()\n",
    "\n",
    "from sqlalchemy import Column, Integer, String\n",
    "\n",
    "from sqlalchemy.ext.declarative import declarative_base\n",
    "Base = declarative_base()"
   ]
  },
  {
   "cell_type": "code",
   "execution_count": 3,
   "metadata": {
    "collapsed": false
   },
   "outputs": [],
   "source": [
    "class Adults(Base):\n",
    "    __tablename__ = 'SocioEconomicStatus'\n",
    "\n",
    "    Id = Column(Integer, primary_key = True)\n",
    "    age = Column(Integer)\n",
    "    workclass = Column(String)\n",
    "    fnlwgt = Column(Integer)\n",
    "    education = Column(String)\n",
    "    education_num = Column(Integer)\n",
    "    marital_status = Column(String)\n",
    "    occupation = Column(String)\n",
    "    relationship = Column(String)\n",
    "    race = Column(String)\n",
    "    sex = Column(String)\n",
    "    capital_gain = Column(Integer)\n",
    "    capital_loss = Column(Integer)\n",
    "    hours_per_week = Column(Integer)\n",
    "    native_country = Column(String)\n",
    "    household_income = Column(String)\n",
    "\n",
    "    def __repr__(self):\n",
    "        return \"\"\"<User(age='%d', workclass='%s', \n",
    "                        fnlwgt='%d', education='%s', \n",
    "                        education_num='%d', marital_status='%s', \n",
    "                        occupation='%s', relationship='%s', \n",
    "                        race='%s', sex='%s', capital_gain='%d',\n",
    "                        capital_loss='%d', hours_per_week='%d', \n",
    "                        native_country='%s', household_income='%s')>\"\"\" % (\n",
    "                        self.age, self.workclass, self.fnlwgt,\n",
    "                        self.education, self.education_num, self.marital_status,\n",
    "                        self.occupation, self.relationship, self.race,\n",
    "                        self.sex, self.capital_gain, self.capital_loss,\n",
    "                        self.hours_per_week, self.native_country, self.household_income)"
   ]
  },
  {
   "cell_type": "code",
   "execution_count": 4,
   "metadata": {
    "collapsed": false
   },
   "outputs": [
    {
     "data": {
      "text/plain": [
       "Table('SocioEconomicStatus', MetaData(bind=None), Column('Id', Integer(), table=<SocioEconomicStatus>, primary_key=True, nullable=False), Column('age', Integer(), table=<SocioEconomicStatus>), Column('workclass', String(), table=<SocioEconomicStatus>), Column('fnlwgt', Integer(), table=<SocioEconomicStatus>), Column('education', String(), table=<SocioEconomicStatus>), Column('education_num', Integer(), table=<SocioEconomicStatus>), Column('marital_status', String(), table=<SocioEconomicStatus>), Column('occupation', String(), table=<SocioEconomicStatus>), Column('relationship', String(), table=<SocioEconomicStatus>), Column('race', String(), table=<SocioEconomicStatus>), Column('sex', String(), table=<SocioEconomicStatus>), Column('capital_gain', Integer(), table=<SocioEconomicStatus>), Column('capital_loss', Integer(), table=<SocioEconomicStatus>), Column('hours_per_week', Integer(), table=<SocioEconomicStatus>), Column('native_country', String(), table=<SocioEconomicStatus>), Column('household_income', String(), table=<SocioEconomicStatus>), schema=None)"
      ]
     },
     "execution_count": 4,
     "metadata": {},
     "output_type": "execute_result"
    }
   ],
   "source": [
    "Adults.__table__ "
   ]
  },
  {
   "cell_type": "code",
   "execution_count": 5,
   "metadata": {
    "collapsed": false
   },
   "outputs": [
    {
     "name": "stdout",
     "output_type": "stream",
     "text": [
      "2018-04-03 10:46:41,740 INFO sqlalchemy.engine.base.Engine PRAGMA table_info(\"SocioEconomicStatus\")\n",
      "2018-04-03 10:46:41,742 INFO sqlalchemy.engine.base.Engine ()\n",
      "2018-04-03 10:46:41,746 INFO sqlalchemy.engine.base.Engine \n",
      "CREATE TABLE \"SocioEconomicStatus\" (\n",
      "\t\"Id\" INTEGER NOT NULL, \n",
      "\tage INTEGER, \n",
      "\tworkclass VARCHAR, \n",
      "\tfnlwgt INTEGER, \n",
      "\teducation VARCHAR, \n",
      "\teducation_num INTEGER, \n",
      "\tmarital_status VARCHAR, \n",
      "\toccupation VARCHAR, \n",
      "\trelationship VARCHAR, \n",
      "\trace VARCHAR, \n",
      "\tsex VARCHAR, \n",
      "\tcapital_gain INTEGER, \n",
      "\tcapital_loss INTEGER, \n",
      "\thours_per_week INTEGER, \n",
      "\tnative_country VARCHAR, \n",
      "\thousehold_income VARCHAR, \n",
      "\tPRIMARY KEY (\"Id\")\n",
      ")\n",
      "\n",
      "\n",
      "2018-04-03 10:46:41,747 INFO sqlalchemy.engine.base.Engine ()\n",
      "2018-04-03 10:46:41,750 INFO sqlalchemy.engine.base.Engine COMMIT\n"
     ]
    }
   ],
   "source": [
    "Base.metadata.create_all(engine)"
   ]
  },
  {
   "cell_type": "code",
   "execution_count": 6,
   "metadata": {
    "collapsed": false
   },
   "outputs": [
    {
     "name": "stdout",
     "output_type": "stream",
     "text": [
      "2018-04-03 10:46:42,610 INFO sqlalchemy.engine.base.Engine PRAGMA table_info(\"SocioEconomicStatus\")\n",
      "2018-04-03 10:46:42,610 INFO sqlalchemy.engine.base.Engine ()\n",
      "2018-04-03 10:46:42,616 INFO sqlalchemy.engine.base.Engine SELECT sql FROM  (SELECT * FROM sqlite_master UNION ALL   SELECT * FROM sqlite_temp_master) WHERE name = 'SocioEconomicStatus' AND type = 'table'\n",
      "2018-04-03 10:46:42,618 INFO sqlalchemy.engine.base.Engine ()\n",
      "2018-04-03 10:46:42,622 INFO sqlalchemy.engine.base.Engine PRAGMA foreign_key_list(\"SocioEconomicStatus\")\n",
      "2018-04-03 10:46:42,623 INFO sqlalchemy.engine.base.Engine ()\n",
      "2018-04-03 10:46:42,625 INFO sqlalchemy.engine.base.Engine SELECT sql FROM  (SELECT * FROM sqlite_master UNION ALL   SELECT * FROM sqlite_temp_master) WHERE name = 'SocioEconomicStatus' AND type = 'table'\n",
      "2018-04-03 10:46:42,627 INFO sqlalchemy.engine.base.Engine ()\n",
      "2018-04-03 10:46:42,632 INFO sqlalchemy.engine.base.Engine PRAGMA index_list(\"SocioEconomicStatus\")\n",
      "2018-04-03 10:46:42,634 INFO sqlalchemy.engine.base.Engine ()\n",
      "2018-04-03 10:46:42,636 INFO sqlalchemy.engine.base.Engine PRAGMA index_list(\"SocioEconomicStatus\")\n",
      "2018-04-03 10:46:42,638 INFO sqlalchemy.engine.base.Engine ()\n",
      "2018-04-03 10:46:42,640 INFO sqlalchemy.engine.base.Engine SELECT sql FROM  (SELECT * FROM sqlite_master UNION ALL   SELECT * FROM sqlite_temp_master) WHERE name = 'SocioEconomicStatus' AND type = 'table'\n",
      "2018-04-03 10:46:42,642 INFO sqlalchemy.engine.base.Engine ()\n",
      "2018-04-03 10:46:43,123 INFO sqlalchemy.engine.base.Engine INSERT INTO \"SocioEconomicStatus\" (\"Id\", age, workclass, fnlwgt, education, education_num, marital_status, occupation, relationship, race, sex, capital_gain, capital_loss, hours_per_week, native_country, household_income) VALUES (?, ?, ?, ?, ?, ?, ?, ?, ?, ?, ?, ?, ?, ?, ?, ?)\n",
      "2018-04-03 10:46:43,123 INFO sqlalchemy.engine.base.Engine ((0, 39, 'State-gov', 77516, 'Bachelors', 13, 'Never-married', 'Adm-clerical', 'Not-in-family', 'White', 'Male', 2174, 0, 40, 'United-States', '<=50K'), (1, 50, 'Self-emp-not-inc', 83311, 'Bachelors', 13, 'Married-civ-spouse', 'Exec-managerial', 'Husband', 'White', 'Male', 0, 0, 13, 'United-States', '<=50K'), (2, 38, 'Private', 215646, 'HS-grad', 9, 'Divorced', 'Handlers-cleaners', 'Not-in-family', 'White', 'Male', 0, 0, 40, 'United-States', '<=50K'), (3, 53, 'Private', 234721, '11th', 7, 'Married-civ-spouse', 'Handlers-cleaners', 'Husband', 'Black', 'Male', 0, 0, 40, 'United-States', '<=50K'), (4, 28, 'Private', 338409, 'Bachelors', 13, 'Married-civ-spouse', 'Prof-specialty', 'Wife', 'Black', 'Female', 0, 0, 40, 'Cuba', '<=50K'), (5, 37, 'Private', 284582, 'Masters', 14, 'Married-civ-spouse', 'Exec-managerial', 'Wife', 'White', 'Female', 0, 0, 40, 'United-States', '<=50K'), (6, 49, 'Private', 160187, '9th', 5, 'Married-spouse-absent', 'Other-service', 'Not-in-family', 'Black', 'Female', 0, 0, 16, 'Jamaica', '<=50K'), (7, 52, 'Self-emp-not-inc', 209642, 'HS-grad', 9, 'Married-civ-spouse', 'Exec-managerial', 'Husband', 'White', 'Male', 0, 0, 45, 'United-States', '>50K')  ... displaying 10 of 32561 total bound parameter sets ...  (32559, 22, 'Private', 201490, 'HS-grad', 9, 'Never-married', 'Adm-clerical', 'Own-child', 'White', 'Male', 0, 0, 20, 'United-States', '<=50K'), (32560, 52, 'Self-emp-inc', 287927, 'HS-grad', 9, 'Married-civ-spouse', 'Exec-managerial', 'Wife', 'White', 'Female', 15024, 0, 40, 'United-States', '>50K'))\n",
      "2018-04-03 10:46:43,240 INFO sqlalchemy.engine.base.Engine COMMIT\n"
     ]
    }
   ],
   "source": [
    "### Load data from the dataframe to the table - all rows ### \n",
    "\n",
    "from sqlalchemy.orm import sessionmaker\n",
    "\n",
    "tableToWriteTo = 'SocioEconomicStatus'\n",
    "\n",
    "#create Index column to use as primary key\n",
    "df.reset_index(inplace=True)\n",
    "df.rename(columns={'index':'Id'}, inplace =True)\n",
    "\n",
    "listToWrite = df.to_dict(orient='records')\n",
    "\n",
    "metadata = sqlalchemy.schema.MetaData(bind=engine)\n",
    "table = sqlalchemy.Table(tableToWriteTo, metadata, autoload=True)\n",
    "\n",
    "# Open the session\n",
    "Session = sessionmaker(bind=engine)\n",
    "session = Session()\n",
    "\n",
    "# Inser the dataframe into the database in one bulk\n",
    "conn.execute(table.insert(), listToWrite)\n",
    "\n",
    "# Commit the changes\n",
    "session.commit()\n",
    "\n",
    "# Close the session\n",
    "session.close()"
   ]
  },
  {
   "cell_type": "code",
   "execution_count": 7,
   "metadata": {
    "collapsed": false
   },
   "outputs": [
    {
     "name": "stdout",
     "output_type": "stream",
     "text": [
      "2018-04-03 10:46:43,280 INFO sqlalchemy.engine.base.Engine BEGIN (implicit)\n",
      "2018-04-03 10:46:43,282 INFO sqlalchemy.engine.base.Engine UPDATE \"SocioEconomicStatus\" SET education=? WHERE \"SocioEconomicStatus\".education = ? OR \"SocioEconomicStatus\".education = ? OR \"SocioEconomicStatus\".education = ?\n",
      "2018-04-03 10:46:43,284 INFO sqlalchemy.engine.base.Engine ('Junior High School', '7th-8th', '9th', '10th')\n",
      "2018-04-03 10:46:43,299 INFO sqlalchemy.engine.base.Engine COMMIT\n",
      "2018-04-03 10:46:43,304 INFO sqlalchemy.engine.base.Engine BEGIN (implicit)\n",
      "2018-04-03 10:46:43,306 INFO sqlalchemy.engine.base.Engine UPDATE \"SocioEconomicStatus\" SET education=? WHERE \"SocioEconomicStatus\".education = ? OR \"SocioEconomicStatus\".education = ?\n",
      "2018-04-03 10:46:43,308 INFO sqlalchemy.engine.base.Engine ('Primary School', '1st-4th', '5th-6th')\n",
      "2018-04-03 10:46:43,318 INFO sqlalchemy.engine.base.Engine COMMIT\n"
     ]
    }
   ],
   "source": [
    "### UPDATE QUERIES ### \n",
    "\n",
    "from sqlalchemy import and_, or_, not_\n",
    "\n",
    "session.query(Adults).filter( or_(\n",
    "        Adults.education == '7th-8th',\n",
    "        Adults.education == '9th',\n",
    "        Adults.education == '10th'\n",
    "    )).update({\"education\": 'Junior High School'})\n",
    "  \n",
    "session.commit()\n",
    "\n",
    "session.query(Adults).filter( or_(\n",
    "        Adults.education == '1st-4th',\n",
    "        Adults.education == '5th-6th',\n",
    "    )).update({\"education\": 'Primary School'})\n",
    "  \n",
    "session.commit()"
   ]
  },
  {
   "cell_type": "code",
   "execution_count": 8,
   "metadata": {
    "collapsed": false
   },
   "outputs": [
    {
     "name": "stdout",
     "output_type": "stream",
     "text": [
      "2018-04-03 10:46:43,423 INFO sqlalchemy.engine.base.Engine BEGIN (implicit)\n",
      "2018-04-03 10:46:43,423 INFO sqlalchemy.engine.base.Engine DELETE FROM \"SocioEconomicStatus\" WHERE \"SocioEconomicStatus\".workclass = ?\n",
      "2018-04-03 10:46:43,423 INFO sqlalchemy.engine.base.Engine ('?',)\n",
      "2018-04-03 10:46:43,439 INFO sqlalchemy.engine.base.Engine DELETE FROM \"SocioEconomicStatus\" WHERE \"SocioEconomicStatus\".occupation = ?\n",
      "2018-04-03 10:46:43,441 INFO sqlalchemy.engine.base.Engine ('?',)\n"
     ]
    },
    {
     "data": {
      "text/plain": [
       "7"
      ]
     },
     "execution_count": 8,
     "metadata": {},
     "output_type": "execute_result"
    }
   ],
   "source": [
    "### DELETE QUERIES ### \n",
    "session.query(Adults).filter(Adults.workclass == '?').delete()\n",
    "\n",
    "session.query(Adults).filter(Adults.occupation == '?').delete()"
   ]
  },
  {
   "cell_type": "code",
   "execution_count": 9,
   "metadata": {
    "collapsed": false
   },
   "outputs": [
    {
     "name": "stdout",
     "output_type": "stream",
     "text": [
      "2018-04-03 10:46:43,504 INFO sqlalchemy.engine.base.Engine SELECT count(*) AS count_1 \n",
      "FROM (SELECT \"SocioEconomicStatus\".\"Id\" AS \"SocioEconomicStatus_Id\", \"SocioEconomicStatus\".age AS \"SocioEconomicStatus_age\", \"SocioEconomicStatus\".workclass AS \"SocioEconomicStatus_workclass\", \"SocioEconomicStatus\".fnlwgt AS \"SocioEconomicStatus_fnlwgt\", \"SocioEconomicStatus\".education AS \"SocioEconomicStatus_education\", \"SocioEconomicStatus\".education_num AS \"SocioEconomicStatus_education_num\", \"SocioEconomicStatus\".marital_status AS \"SocioEconomicStatus_marital_status\", \"SocioEconomicStatus\".occupation AS \"SocioEconomicStatus_occupation\", \"SocioEconomicStatus\".relationship AS \"SocioEconomicStatus_relationship\", \"SocioEconomicStatus\".race AS \"SocioEconomicStatus_race\", \"SocioEconomicStatus\".sex AS \"SocioEconomicStatus_sex\", \"SocioEconomicStatus\".capital_gain AS \"SocioEconomicStatus_capital_gain\", \"SocioEconomicStatus\".capital_loss AS \"SocioEconomicStatus_capital_loss\", \"SocioEconomicStatus\".hours_per_week AS \"SocioEconomicStatus_hours_per_week\", \"SocioEconomicStatus\".native_country AS \"SocioEconomicStatus_native_country\", \"SocioEconomicStatus\".household_income AS \"SocioEconomicStatus_household_income\" \n",
      "FROM \"SocioEconomicStatus\" \n",
      "WHERE \"SocioEconomicStatus\".workclass = ? AND \"SocioEconomicStatus\".education = ?) AS anon_1\n",
      "2018-04-03 10:46:43,506 INFO sqlalchemy.engine.base.Engine ('Private', 'Masters')\n"
     ]
    },
    {
     "data": {
      "text/plain": [
       "894"
      ]
     },
     "execution_count": 9,
     "metadata": {},
     "output_type": "execute_result"
    }
   ],
   "source": [
    "### FILTER QUERY - count adults with a masters degrees and a private job ##\n",
    "session.query(Adults).filter( and_(\n",
    "        Adults.workclass=='Private',\n",
    "        Adults.education=='Masters'\n",
    "    )).count()"
   ]
  },
  {
   "cell_type": "code",
   "execution_count": 10,
   "metadata": {
    "collapsed": false
   },
   "outputs": [
    {
     "name": "stdout",
     "output_type": "stream",
     "text": [
      "2018-04-03 10:46:43,592 INFO sqlalchemy.engine.base.Engine SELECT count(*) AS count_1 \n",
      "FROM (SELECT \"SocioEconomicStatus\".\"Id\" AS \"SocioEconomicStatus_Id\", \"SocioEconomicStatus\".age AS \"SocioEconomicStatus_age\", \"SocioEconomicStatus\".workclass AS \"SocioEconomicStatus_workclass\", \"SocioEconomicStatus\".fnlwgt AS \"SocioEconomicStatus_fnlwgt\", \"SocioEconomicStatus\".education AS \"SocioEconomicStatus_education\", \"SocioEconomicStatus\".education_num AS \"SocioEconomicStatus_education_num\", \"SocioEconomicStatus\".marital_status AS \"SocioEconomicStatus_marital_status\", \"SocioEconomicStatus\".occupation AS \"SocioEconomicStatus_occupation\", \"SocioEconomicStatus\".relationship AS \"SocioEconomicStatus_relationship\", \"SocioEconomicStatus\".race AS \"SocioEconomicStatus_race\", \"SocioEconomicStatus\".sex AS \"SocioEconomicStatus_sex\", \"SocioEconomicStatus\".capital_gain AS \"SocioEconomicStatus_capital_gain\", \"SocioEconomicStatus\".capital_loss AS \"SocioEconomicStatus_capital_loss\", \"SocioEconomicStatus\".hours_per_week AS \"SocioEconomicStatus_hours_per_week\", \"SocioEconomicStatus\".native_country AS \"SocioEconomicStatus_native_country\", \"SocioEconomicStatus\".household_income AS \"SocioEconomicStatus_household_income\" \n",
      "FROM \"SocioEconomicStatus\" \n",
      "WHERE \"SocioEconomicStatus\".marital_status LIKE ? AND \"SocioEconomicStatus\".sex = ?) AS anon_1\n",
      "2018-04-03 10:46:43,592 INFO sqlalchemy.engine.base.Engine ('%Married%', 'Male')\n"
     ]
    },
    {
     "data": {
      "text/plain": [
       "18565"
      ]
     },
     "execution_count": 10,
     "metadata": {},
     "output_type": "execute_result"
    }
   ],
   "source": [
    "### FILTER QUERY - Married Males###\n",
    "\n",
    "session.query(Adults).filter( and_(\n",
    "        Adults.marital_status.like('%Married%'),\n",
    "        Adults.sex == 'Male'\n",
    "    )).count()"
   ]
  },
  {
   "cell_type": "code",
   "execution_count": 11,
   "metadata": {
    "collapsed": false
   },
   "outputs": [
    {
     "name": "stdout",
     "output_type": "stream",
     "text": [
      "2018-04-03 10:46:43,670 INFO sqlalchemy.engine.base.Engine SELECT count(?) AS count_1 \n",
      "FROM \"SocioEconomicStatus\"\n",
      "2018-04-03 10:46:43,672 INFO sqlalchemy.engine.base.Engine ('*',)\n"
     ]
    },
    {
     "data": {
      "text/plain": [
       "30718"
      ]
     },
     "execution_count": 11,
     "metadata": {},
     "output_type": "execute_result"
    }
   ],
   "source": [
    "### FUNCTION QUERY - count(*) ###\n",
    "\n",
    "from sqlalchemy import func\n",
    "\n",
    "session.query(func.count('*')).select_from(Adults).scalar()"
   ]
  },
  {
   "cell_type": "code",
   "execution_count": 12,
   "metadata": {
    "collapsed": false
   },
   "outputs": [
    {
     "name": "stdout",
     "output_type": "stream",
     "text": [
      "2018-04-03 10:46:43,758 INFO sqlalchemy.engine.base.Engine SELECT \"SocioEconomicStatus\".workclass AS \"SocioEconomicStatus_workclass\", count(\"SocioEconomicStatus\".\"Id\") AS count_1 \n",
      "FROM \"SocioEconomicStatus\" GROUP BY \"SocioEconomicStatus\".workclass\n",
      "2018-04-03 10:46:43,758 INFO sqlalchemy.engine.base.Engine ()\n"
     ]
    },
    {
     "data": {
      "text/plain": [
       "[('Federal-gov', 960),\n",
       " ('Local-gov', 2093),\n",
       " ('Private', 22696),\n",
       " ('Self-emp-inc', 1116),\n",
       " ('Self-emp-not-inc', 2541),\n",
       " ('State-gov', 1298),\n",
       " ('Without-pay', 14)]"
      ]
     },
     "execution_count": 12,
     "metadata": {},
     "output_type": "execute_result"
    }
   ],
   "source": [
    "### FUNCTION QUERY - group adults by workclass ###\n",
    "\n",
    "session.query(Adults.workclass, func.count(Adults.Id)).group_by(Adults.workclass).all()"
   ]
  }
 ],
 "metadata": {
  "kernelspec": {
   "display_name": "Python 3",
   "language": "python",
   "name": "python3"
  },
  "language_info": {
   "codemirror_mode": {
    "name": "ipython",
    "version": 3
   },
   "file_extension": ".py",
   "mimetype": "text/x-python",
   "name": "python",
   "nbconvert_exporter": "python",
   "pygments_lexer": "ipython3",
   "version": "3.6.0"
  }
 },
 "nbformat": 4,
 "nbformat_minor": 2
}
